{
 "cells": [
  {
   "cell_type": "code",
   "execution_count": 78,
   "id": "f7a2c403-0910-40a5-9cfa-7edffebe20f5",
   "metadata": {},
   "outputs": [],
   "source": [
    "import tensorflow as tf\n",
    "import numpy as np\n",
    "from tensorflow.keras.datasets import mnist"
   ]
  },
  {
   "cell_type": "code",
   "execution_count": 26,
   "id": "111cc67f-ec67-4794-b809-b7ee71d71c71",
   "metadata": {},
   "outputs": [],
   "source": [
    "(x_train, y_train), (x_test, y_test) = mnist.load_data()"
   ]
  },
  {
   "cell_type": "markdown",
   "id": "30136021-e781-43a6-bf3f-bcd28b62014e",
   "metadata": {},
   "source": [
    "### Preprocessing the data and normalizing it"
   ]
  },
  {
   "cell_type": "code",
   "execution_count": 65,
   "id": "954d3980-1dcc-42dc-83d4-86fb0e22c45c",
   "metadata": {},
   "outputs": [],
   "source": [
    "x_train = tf.keras.utils.normalize(x_train, axis=1)\n",
    "x_test = tf.keras.utils.normalize(x_test, axis=1)"
   ]
  },
  {
   "cell_type": "markdown",
   "id": "3d870b3d-caf7-469d-9765-57ab13d21369",
   "metadata": {},
   "source": [
    "### Plotting an example"
   ]
  },
  {
   "cell_type": "code",
   "execution_count": 15,
   "id": "8dd7f21f-9270-4cbd-8231-c1f5a4fa3537",
   "metadata": {},
   "outputs": [
    {
     "data": {
      "image/png": "[encoded data removed]",
      "text/plain": [
       "<Figure size 640x480 with 1 Axes>"
      ]
     },
     "metadata": {},
     "output_type": "display_data"
    }
   ],
   "source": [
    "import matplotlib.pyplot as plt\n",
    "plt.imshow(x_train[2], cmap=plt.cm.binary)\n",
    "plt.show()"
   ]
  },
  {
   "cell_type": "markdown",
   "id": "a9b61a22-4dbb-446b-828c-d5a86c2322f2",
   "metadata": {},
   "source": [
    "### Building the first model\n",
    " Building the neural network with 2 hidden layers with a relu activation function and an output layer with a softmax activation function"
   ]
  },
  {
   "cell_type": "code",
   "execution_count": 88,
   "id": "133d263c-9595-4baa-bcf9-e03840260a1b",
   "metadata": {},
   "outputs": [],
   "source": [
    "from tensorflow.keras import Sequential\n",
    "from tensorflow.keras.layers import Dense, Flatten\n",
    "model1 = Sequential([\n",
    "    Flatten(input_shape=(28, 28)),\n",
    "    Dense(128, activation='relu'),\n",
    "    Dense(128, activation='relu'),\n",
    "    Dense(10, activation='softmax')\n",
    "])\n",
    "model1.compile(optimizer='adam', loss='sparse_categorical_crossentropy', metrics=['accuracy'])"
   ]
  },
  {
   "cell_type": "markdown",
   "id": "452b0402-713f-417c-87bc-11919c800884",
   "metadata": {},
   "source": [
    "### Training the model"
   ]
  },
  {
   "cell_type": "code",
   "execution_count": null,
   "id": "ea2de2d3-ad49-492a-9639-a7f49f347603",
   "metadata": {},
   "outputs": [],
   "source": [
    "model1.fit(x_train, y_train, epochs=3)"
   ]
  },
  {
   "cell_type": "markdown",
   "id": "c8f4d07c-8575-40d3-832a-79bc3de07f00",
   "metadata": {},
   "source": [
    "### Model Summary"
   ]
  },
  {
   "cell_type": "code",
   "execution_count": 83,
   "id": "e5776e37-4e81-496e-9d72-f03f9f5e6270",
   "metadata": {},
   "outputs": [
    {
     "name": "stdout",
     "output_type": "stream",
     "text": [
      "Model: \"sequential_13\"\n",
      "_________________________________________________________________\n",
      " Layer (type)                Output Shape              Param #   \n",
      "=================================================================\n",
      " flatten_13 (Flatten)        (None, 784)               0         \n",
      "                                                                 \n",
      " dense_39 (Dense)            (None, 128)               100480    \n",
      "                                                                 \n",
      " dense_40 (Dense)            (None, 128)               16512     \n",
      "                                                                 \n",
      " dense_41 (Dense)            (None, 10)                1290      \n",
      "                                                                 \n",
      "=================================================================\n",
      "Total params: 118282 (462.04 KB)\n",
      "Trainable params: 118282 (462.04 KB)\n",
      "Non-trainable params: 0 (0.00 Byte)\n",
      "_________________________________________________________________\n"
     ]
    }
   ],
   "source": [
    "model1.summary()"
   ]
  },
  {
   "cell_type": "code",
   "execution_count": 23,
   "id": "38bc8b9d-70df-4c8a-a3ef-8ba948be81e0",
   "metadata": {},
   "outputs": [
    {
     "data": {
      "image/png": "[encoded data removed]",
      "text/plain": [
       "<Figure size 640x480 with 1 Axes>"
      ]
     },
     "metadata": {},
     "output_type": "display_data"
    },
    {
     "name": "stdout",
     "output_type": "stream",
     "text": [
      "\u001b[1m1/1\u001b[0m \u001b[32m━━━━━━━━━━━━━━━━━━━━\u001b[0m\u001b[37m\u001b[0m \u001b[1m0s\u001b[0m 54ms/step\n",
      "1\n"
     ]
    }
   ],
   "source": [
    "def predict(test):\n",
    "    pred = model1.predict(test[None, ...])\n",
    "    return np.argmax(pred)\n",
    "\n",
    "t = x_test[5]\n",
    "plt.imshow(t, cmap=plt.cm.binary)\n",
    "plt.show()\n",
    "print(predict(t))"
   ]
  },
  {
   "cell_type": "code",
   "execution_count": null,
   "id": "a96a9bd1-a9be-4b24-bd07-36a64fc971bd",
   "metadata": {},
   "outputs": [],
   "source": []
  }
 ],
 "metadata": {
  "kernelspec": {
   "display_name": "Python 3 (ipykernel)",
   "language": "python",
   "name": "python3"
  },
  "language_info": {
   "codemirror_mode": {
    "name": "ipython",
    "version": 3
   },
   "file_extension": ".py",
   "mimetype": "text/x-python",
   "name": "python",
   "nbconvert_exporter": "python",
   "pygments_lexer": "ipython3",
   "version": "3.10.12"
  }
 },
 "nbformat": 4,
 "nbformat_minor": 5
}
